{
 "cells": [
  {
   "cell_type": "code",
   "execution_count": 1,
   "metadata": {},
   "outputs": [],
   "source": [
    "# Apriori example for mining frequent itemsets\n",
    "\n",
    "from apriori_python import apriori\n"
   ]
  },
  {
   "cell_type": "code",
   "execution_count": 14,
   "metadata": {},
   "outputs": [],
   "source": [
    "# Define dataset\n",
    "\n",
    "itemSetList = [\n",
    "    ['A', 'C', 'D'],\n",
    "    ['B', 'C', 'E'],\n",
    "    ['A', 'B', 'C', 'E'],\n",
    "    ['B', 'E']\n",
    "]"
   ]
  },
  {
   "cell_type": "code",
   "execution_count": 15,
   "metadata": {},
   "outputs": [],
   "source": [
    "# Run algorithm\n",
    "freqItemSet, rules = apriori(itemSetList, minSup=0.5, minConf=0.5)"
   ]
  },
  {
   "cell_type": "code",
   "execution_count": 16,
   "metadata": {},
   "outputs": [
    {
     "name": "stdout",
     "output_type": "stream",
     "text": [
      "1: [['C'], ['E'], ['B'], ['A']]\n",
      "2: [['C', 'A'], ['E', 'B'], ['C', 'B'], ['C', 'E']]\n",
      "3: [['C', 'E', 'B']]\n"
     ]
    }
   ],
   "source": [
    "for key in freqItemSet:\n",
    "    values = [list(x) for x in freqItemSet[key]]\n",
    "    print(f'{key}: {values}')"
   ]
  },
  {
   "cell_type": "code",
   "execution_count": 17,
   "metadata": {},
   "outputs": [
    {
     "name": "stdout",
     "output_type": "stream",
     "text": [
      "{'C'} --> {'A'} [conf: 0.6666666666666666]\n",
      "{'C'} --> {'B'} [conf: 0.6666666666666666]\n",
      "{'B'} --> {'C'} [conf: 0.6666666666666666]\n",
      "{'C'} --> {'E'} [conf: 0.6666666666666666]\n",
      "{'E'} --> {'C'} [conf: 0.6666666666666666]\n",
      "{'C'} --> {'E', 'B'} [conf: 0.6666666666666666]\n",
      "{'E'} --> {'C', 'B'} [conf: 0.6666666666666666]\n",
      "{'B'} --> {'C', 'E'} [conf: 0.6666666666666666]\n",
      "{'E', 'B'} --> {'C'} [conf: 0.6666666666666666]\n",
      "{'A'} --> {'C'} [conf: 1.0]\n",
      "{'E'} --> {'B'} [conf: 1.0]\n",
      "{'B'} --> {'E'} [conf: 1.0]\n",
      "{'C', 'E'} --> {'B'} [conf: 1.0]\n",
      "{'C', 'B'} --> {'E'} [conf: 1.0]\n"
     ]
    }
   ],
   "source": [
    "for rule in rules:\n",
    "    print(f'{rule[0]} --> {rule[1]} [conf: {rule[2]}]')"
   ]
  },
  {
   "cell_type": "code",
   "execution_count": 18,
   "metadata": {},
   "outputs": [
    {
     "name": "stdout",
     "output_type": "stream",
     "text": [
      "Frequent itemsets\n",
      "1: [['Beer'], ['Nuts'], ['Diaper'], ['Eggs']]\n",
      "2: [['Diaper', 'Beer']]\n",
      "\n",
      "Rules\n",
      "{'Diaper'} --> {'Beer'} [conf: 0.75]\n",
      "{'Beer'} --> {'Diaper'} [conf: 1.0]\n"
     ]
    }
   ],
   "source": [
    "# Another example\n",
    "\n",
    "itemSetList = [\n",
    "    ['Beer', 'Nuts', 'Diaper'],\n",
    "    ['Beer', 'Coffee', 'Diaper'],\n",
    "    ['Beer', 'Diaper', 'Eggs'],\n",
    "    ['Nuts', 'Eggs', 'Milk'],\n",
    "    ['Nuts', 'Coffee', 'Diaper', 'Eggs', 'Milk']\n",
    "]\n",
    "\n",
    "# Run algorithm\n",
    "freqItemSet, rules = apriori(itemSetList, minSup=0.5, minConf=0.5)\n",
    "\n",
    "print('Frequent itemsets')\n",
    "for key in freqItemSet:\n",
    "    values = [list(x) for x in freqItemSet[key]]\n",
    "    print(f'{key}: {values}')\n",
    "\n",
    "print('')\n",
    "print('Rules')\n",
    "for rule in rules:\n",
    "    print(f'{rule[0]} --> {rule[1]} [conf: {rule[2]}]')\n"
   ]
  },
  {
   "cell_type": "code",
   "execution_count": 4,
   "metadata": {},
   "outputs": [
    {
     "name": "stdout",
     "output_type": "stream",
     "text": [
      "Frequent itemsets\n",
      "1: [['m'], ['p'], ['a'], ['f'], ['c'], ['b']]\n",
      "2: [['c', 'm'], ['f', 'm'], ['a', 'm'], ['p', 'c'], ['c', 'f'], ['a', 'c'], ['a', 'f']]\n",
      "3: [['a', 'c', 'f'], ['f', 'c', 'm'], ['f', 'a', 'm'], ['a', 'c', 'm']]\n",
      "4: [['c', 'f', 'a', 'm']]\n",
      "\n",
      "Rules\n",
      "{'c'} --> {'m'} [conf: 0.75]\n",
      "{'f'} --> {'m'} [conf: 0.75]\n",
      "{'c'} --> {'p'} [conf: 0.75]\n",
      "{'c'} --> {'f'} [conf: 0.75]\n",
      "{'f'} --> {'c'} [conf: 0.75]\n",
      "{'c'} --> {'a'} [conf: 0.75]\n",
      "{'f'} --> {'a'} [conf: 0.75]\n",
      "{'c'} --> {'a', 'f'} [conf: 0.75]\n",
      "{'f'} --> {'a', 'c'} [conf: 0.75]\n",
      "{'f'} --> {'c', 'm'} [conf: 0.75]\n",
      "{'c'} --> {'m', 'f'} [conf: 0.75]\n",
      "{'f'} --> {'a', 'm'} [conf: 0.75]\n",
      "{'c'} --> {'a', 'm'} [conf: 0.75]\n",
      "{'c'} --> {'a', 'f', 'm'} [conf: 0.75]\n",
      "{'f'} --> {'a', 'c', 'm'} [conf: 0.75]\n",
      "{'m'} --> {'c'} [conf: 1.0]\n",
      "{'m'} --> {'f'} [conf: 1.0]\n",
      "{'a'} --> {'m'} [conf: 1.0]\n",
      "{'m'} --> {'a'} [conf: 1.0]\n",
      "{'p'} --> {'c'} [conf: 1.0]\n",
      "{'a'} --> {'c'} [conf: 1.0]\n",
      "{'a'} --> {'f'} [conf: 1.0]\n",
      "{'a'} --> {'c', 'f'} [conf: 1.0]\n",
      "{'a', 'c'} --> {'f'} [conf: 1.0]\n",
      "{'a', 'f'} --> {'c'} [conf: 1.0]\n",
      "{'c', 'f'} --> {'a'} [conf: 1.0]\n",
      "{'m'} --> {'c', 'f'} [conf: 1.0]\n",
      "{'c', 'f'} --> {'m'} [conf: 1.0]\n",
      "{'m', 'f'} --> {'c'} [conf: 1.0]\n",
      "{'c', 'm'} --> {'f'} [conf: 1.0]\n",
      "{'a'} --> {'m', 'f'} [conf: 1.0]\n",
      "{'m'} --> {'a', 'f'} [conf: 1.0]\n",
      "{'a', 'f'} --> {'m'} [conf: 1.0]\n",
      "{'m', 'f'} --> {'a'} [conf: 1.0]\n",
      "{'a', 'm'} --> {'f'} [conf: 1.0]\n",
      "{'a'} --> {'c', 'm'} [conf: 1.0]\n",
      "{'m'} --> {'a', 'c'} [conf: 1.0]\n",
      "{'a', 'c'} --> {'m'} [conf: 1.0]\n",
      "{'a', 'm'} --> {'c'} [conf: 1.0]\n",
      "{'c', 'm'} --> {'a'} [conf: 1.0]\n",
      "{'a'} --> {'f', 'c', 'm'} [conf: 1.0]\n",
      "{'m'} --> {'a', 'c', 'f'} [conf: 1.0]\n",
      "{'c', 'f'} --> {'a', 'm'} [conf: 1.0]\n",
      "{'a', 'c'} --> {'m', 'f'} [conf: 1.0]\n",
      "{'c', 'm'} --> {'a', 'f'} [conf: 1.0]\n",
      "{'a', 'f'} --> {'c', 'm'} [conf: 1.0]\n",
      "{'m', 'f'} --> {'a', 'c'} [conf: 1.0]\n",
      "{'a', 'm'} --> {'c', 'f'} [conf: 1.0]\n",
      "{'a', 'c', 'f'} --> {'m'} [conf: 1.0]\n",
      "{'m', 'c', 'f'} --> {'a'} [conf: 1.0]\n",
      "{'a', 'c', 'm'} --> {'f'} [conf: 1.0]\n",
      "{'m', 'a', 'f'} --> {'c'} [conf: 1.0]\n"
     ]
    }
   ],
   "source": [
    "itemSetList = [\n",
    "   ['f','a','c','d','g','i','m','p'],\n",
    "    ['a','b','c','f','l','m','o'],\n",
    "    ['b','f','h','j','o','w'],\n",
    "    ['b','c','k','s','p'],\n",
    "    ['a','f','c','e','l','p','m','n']\n",
    "]\n",
    "\n",
    "# Run algorithm\n",
    "freqItemSet, rules = apriori(itemSetList, minSup=0.6, minConf=0.5)\n",
    "\n",
    "print('Frequent itemsets')\n",
    "for key in freqItemSet:\n",
    "    values = [list(x) for x in freqItemSet[key]]\n",
    "    print(f'{key}: {values}')\n",
    "\n",
    "print('')\n",
    "print('Rules')\n",
    "for rule in rules:\n",
    "    print(f'{rule[0]} --> {rule[1]} [conf: {rule[2]}]')\n"
   ]
  },
  {
   "cell_type": "code",
   "execution_count": null,
   "metadata": {},
   "outputs": [],
   "source": []
  }
 ],
 "metadata": {
  "kernelspec": {
   "display_name": "venv",
   "language": "python",
   "name": "venv"
  },
  "language_info": {
   "codemirror_mode": {
    "name": "ipython",
    "version": 3
   },
   "file_extension": ".py",
   "mimetype": "text/x-python",
   "name": "python",
   "nbconvert_exporter": "python",
   "pygments_lexer": "ipython3",
   "version": "3.7.3"
  }
 },
 "nbformat": 4,
 "nbformat_minor": 4
}
