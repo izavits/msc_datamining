{
 "cells": [
  {
   "cell_type": "code",
   "execution_count": 13,
   "metadata": {},
   "outputs": [],
   "source": [
    "# Apriori example for mining frequent itemsets\n",
    "\n",
    "from apriori_python import apriori\n"
   ]
  },
  {
   "cell_type": "code",
   "execution_count": 14,
   "metadata": {},
   "outputs": [],
   "source": [
    "# Define dataset\n",
    "\n",
    "itemSetList = [\n",
    "    ['A', 'C', 'D'],\n",
    "    ['B', 'C', 'E'],\n",
    "    ['A', 'B', 'C', 'E'],\n",
    "    ['B', 'E']\n",
    "]"
   ]
  },
  {
   "cell_type": "code",
   "execution_count": 15,
   "metadata": {},
   "outputs": [],
   "source": [
    "# Run algorithm\n",
    "freqItemSet, rules = apriori(itemSetList, minSup=0.5, minConf=0.5)"
   ]
  },
  {
   "cell_type": "code",
   "execution_count": 16,
   "metadata": {},
   "outputs": [
    {
     "name": "stdout",
     "output_type": "stream",
     "text": [
      "1: [['C'], ['E'], ['B'], ['A']]\n",
      "2: [['C', 'A'], ['E', 'B'], ['C', 'B'], ['C', 'E']]\n",
      "3: [['C', 'E', 'B']]\n"
     ]
    }
   ],
   "source": [
    "for key in freqItemSet:\n",
    "    values = [list(x) for x in freqItemSet[key]]\n",
    "    print(f'{key}: {values}')"
   ]
  },
  {
   "cell_type": "code",
   "execution_count": 17,
   "metadata": {},
   "outputs": [
    {
     "name": "stdout",
     "output_type": "stream",
     "text": [
      "{'C'} --> {'A'} [conf: 0.6666666666666666]\n",
      "{'C'} --> {'B'} [conf: 0.6666666666666666]\n",
      "{'B'} --> {'C'} [conf: 0.6666666666666666]\n",
      "{'C'} --> {'E'} [conf: 0.6666666666666666]\n",
      "{'E'} --> {'C'} [conf: 0.6666666666666666]\n",
      "{'C'} --> {'E', 'B'} [conf: 0.6666666666666666]\n",
      "{'E'} --> {'C', 'B'} [conf: 0.6666666666666666]\n",
      "{'B'} --> {'C', 'E'} [conf: 0.6666666666666666]\n",
      "{'E', 'B'} --> {'C'} [conf: 0.6666666666666666]\n",
      "{'A'} --> {'C'} [conf: 1.0]\n",
      "{'E'} --> {'B'} [conf: 1.0]\n",
      "{'B'} --> {'E'} [conf: 1.0]\n",
      "{'C', 'E'} --> {'B'} [conf: 1.0]\n",
      "{'C', 'B'} --> {'E'} [conf: 1.0]\n"
     ]
    }
   ],
   "source": [
    "for rule in rules:\n",
    "    print(f'{rule[0]} --> {rule[1]} [conf: {rule[2]}]')"
   ]
  },
  {
   "cell_type": "code",
   "execution_count": 18,
   "metadata": {},
   "outputs": [
    {
     "name": "stdout",
     "output_type": "stream",
     "text": [
      "Frequent itemsets\n",
      "1: [['Beer'], ['Nuts'], ['Diaper'], ['Eggs']]\n",
      "2: [['Diaper', 'Beer']]\n",
      "\n",
      "Rules\n",
      "{'Diaper'} --> {'Beer'} [conf: 0.75]\n",
      "{'Beer'} --> {'Diaper'} [conf: 1.0]\n"
     ]
    }
   ],
   "source": [
    "# Another example\n",
    "\n",
    "itemSetList = [\n",
    "    ['Beer', 'Nuts', 'Diaper'],\n",
    "    ['Beer', 'Coffee', 'Diaper'],\n",
    "    ['Beer', 'Diaper', 'Eggs'],\n",
    "    ['Nuts', 'Eggs', 'Milk'],\n",
    "    ['Nuts', 'Coffee', 'Diaper', 'Eggs', 'Milk']\n",
    "]\n",
    "\n",
    "# Run algorithm\n",
    "freqItemSet, rules = apriori(itemSetList, minSup=0.5, minConf=0.5)\n",
    "\n",
    "print('Frequent itemsets')\n",
    "for key in freqItemSet:\n",
    "    values = [list(x) for x in freqItemSet[key]]\n",
    "    print(f'{key}: {values}')\n",
    "\n",
    "print('')\n",
    "print('Rules')\n",
    "for rule in rules:\n",
    "    print(f'{rule[0]} --> {rule[1]} [conf: {rule[2]}]')\n"
   ]
  },
  {
   "cell_type": "code",
   "execution_count": null,
   "metadata": {},
   "outputs": [],
   "source": []
  }
 ],
 "metadata": {
  "kernelspec": {
   "display_name": "venv",
   "language": "python",
   "name": "venv"
  },
  "language_info": {
   "codemirror_mode": {
    "name": "ipython",
    "version": 3
   },
   "file_extension": ".py",
   "mimetype": "text/x-python",
   "name": "python",
   "nbconvert_exporter": "python",
   "pygments_lexer": "ipython3",
   "version": "3.7.3"
  }
 },
 "nbformat": 4,
 "nbformat_minor": 4
}
