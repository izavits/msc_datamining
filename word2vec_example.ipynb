{
 "cells": [
  {
   "cell_type": "code",
   "execution_count": 1,
   "metadata": {},
   "outputs": [
    {
     "name": "stdout",
     "output_type": "stream",
     "text": [
      "Vocab length: 3000000\n"
     ]
    }
   ],
   "source": [
    "# Play with pre-trained word embeddings\n",
    "# Need to download GoogleNews-vectors-negative300.bin or other word2vec embeddings and copy to ./data folder\n",
    "\n",
    "import gensim\n",
    "\n",
    "model = gensim.models.KeyedVectors.load_word2vec_format('./data/GoogleNews-vectors-negative300.bin', binary=True)\n",
    "\n",
    "vocab = model.vocab.keys()\n",
    "wordsInVocab = len(vocab)\n",
    "print(f'Vocab length: {wordsInVocab}')\n",
    "\n"
   ]
  },
  {
   "cell_type": "code",
   "execution_count": 3,
   "metadata": {},
   "outputs": [
    {
     "name": "stdout",
     "output_type": "stream",
     "text": [
      "Similarity between (dog, cat): 0.760945737361908\n",
      "Similarity between (king, queen): 0.6510956883430481\n",
      "Similarity between (car, computer): 0.246127188205719\n"
     ]
    }
   ],
   "source": [
    "# Compute similarities between words\n",
    "\n",
    "print(f'Similarity between (dog, cat): {model.similarity(\"dog\", \"cat\")}')\n",
    "print(f'Similarity between (king, queen): {model.similarity(\"king\", \"queen\")}')\n",
    "print(f'Similarity between (car, computer): {model.similarity(\"car\", \"computer\")}')"
   ]
  },
  {
   "cell_type": "code",
   "execution_count": 4,
   "metadata": {},
   "outputs": [
    {
     "data": {
      "text/plain": [
       "[('spain', 0.6375303268432617),\n",
       " ('french', 0.6326056718826294),\n",
       " ('germany', 0.6314354538917542),\n",
       " ('europe', 0.6264256238937378),\n",
       " ('italy', 0.6257959008216858),\n",
       " ('england', 0.6120775938034058)]"
      ]
     },
     "execution_count": 4,
     "metadata": {},
     "output_type": "execute_result"
    }
   ],
   "source": [
    "# Look up most similar words\n",
    "model.most_similar('france', topn=6)"
   ]
  },
  {
   "cell_type": "code",
   "execution_count": 5,
   "metadata": {},
   "outputs": [
    {
     "data": {
      "text/plain": [
       "[('courteous', 0.7520973682403564),\n",
       " ('everybody_Pendergrast', 0.7189083099365234),\n",
       " ('respectful', 0.6748367547988892),\n",
       " ('mannerly', 0.6553859710693359),\n",
       " ('gracious', 0.6316325664520264),\n",
       " ('considerate', 0.6307362914085388)]"
      ]
     },
     "execution_count": 5,
     "metadata": {},
     "output_type": "execute_result"
    }
   ],
   "source": [
    "# Look up most similar words\n",
    "model.most_similar('polite', topn=6)"
   ]
  },
  {
   "cell_type": "code",
   "execution_count": 6,
   "metadata": {},
   "outputs": [
    {
     "name": "stdout",
     "output_type": "stream",
     "text": [
      "Sentence 1: Transportation services are great\n",
      "Sentence 2: Public transportation needs attention\n",
      "Similarity = 0.623\n"
     ]
    }
   ],
   "source": [
    "# Compute similarities between sentences\n",
    "\n",
    "s1 = \"Transportation services are great\"\n",
    "s2 = \"Public transportation needs attention\"\n",
    "\n",
    "# Normalize sentences: remove words not in vocabulary\n",
    "tokens = s1.split()\n",
    "s1_final = ''\n",
    "for t in tokens:\n",
    "    if t in model.vocab:\n",
    "        s1_final += t + ' '\n",
    "s1_final = s1_final.strip()\n",
    "\n",
    "tokens = s2.split()\n",
    "s2_final = ''\n",
    "for t in tokens:\n",
    "    if t in model.vocab:\n",
    "        s2_final += t + ' '\n",
    "s2_final = s2_final.strip()\n",
    "\n",
    "print(f'Sentence 1: {s1_final}')\n",
    "print(f'Sentence 2: {s2_final}')\n",
    "sml = model.n_similarity(s1.lower().split(), s2.lower().split())\n",
    "print('Similarity = %.3f' % sml)"
   ]
  },
  {
   "cell_type": "code",
   "execution_count": 9,
   "metadata": {},
   "outputs": [
    {
     "name": "stdout",
     "output_type": "stream",
     "text": [
      "[('queen', 0.7118192911148071)]\n"
     ]
    }
   ],
   "source": [
    "# Most famous example:\n",
    "# That is the word queen is the closest word given the subtraction \n",
    "# of the notion of man from king and adding the word woman.\n",
    "result = model.most_similar(positive=['woman', 'king'], negative=['man'], topn=1)\n",
    "print(result)"
   ]
  },
  {
   "cell_type": "code",
   "execution_count": 11,
   "metadata": {},
   "outputs": [
    {
     "name": "stdout",
     "output_type": "stream",
     "text": [
      "[('Japan', 0.8167769908905029)]\n"
     ]
    }
   ],
   "source": [
    "# A similar example\n",
    "result = model.most_similar(positive=['Tokyo', 'France'], negative=['Paris'], topn=1)\n",
    "print(result)"
   ]
  },
  {
   "cell_type": "code",
   "execution_count": 18,
   "metadata": {},
   "outputs": [
    {
     "name": "stdout",
     "output_type": "stream",
     "text": [
      "[('nurse', 0.6588720679283142)]\n"
     ]
    }
   ],
   "source": [
    "# hmmm.. the model learns what we feed it...\n",
    "\n",
    "result = model.most_similar(positive=['she', 'doctor'], negative=['he'], topn=1)\n",
    "print(result)"
   ]
  },
  {
   "cell_type": "code",
   "execution_count": 28,
   "metadata": {},
   "outputs": [
    {
     "name": "stdout",
     "output_type": "stream",
     "text": [
      "[('housewife', 0.6646618843078613)]\n"
     ]
    }
   ],
   "source": [
    "# !!\n",
    "result = model.most_similar(positive=['she', 'homemaker'], negative=['he'], topn=1)\n",
    "print(result)"
   ]
  },
  {
   "cell_type": "code",
   "execution_count": null,
   "metadata": {},
   "outputs": [],
   "source": []
  }
 ],
 "metadata": {
  "kernelspec": {
   "display_name": "venv",
   "language": "python",
   "name": "venv"
  },
  "language_info": {
   "codemirror_mode": {
    "name": "ipython",
    "version": 3
   },
   "file_extension": ".py",
   "mimetype": "text/x-python",
   "name": "python",
   "nbconvert_exporter": "python",
   "pygments_lexer": "ipython3",
   "version": "3.7.3"
  }
 },
 "nbformat": 4,
 "nbformat_minor": 4
}
