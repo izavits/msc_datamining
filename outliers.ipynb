{
 "cells": [
  {
   "cell_type": "code",
   "execution_count": 4,
   "metadata": {},
   "outputs": [
    {
     "name": "stdout",
     "output_type": "stream",
     "text": [
      "Lower limit: 23.665232344274628\n",
      "Upper limit: 34.98931311027083\n"
     ]
    },
    {
     "data": {
      "text/plain": [
       "[23.0, 35.0]"
      ]
     },
     "execution_count": 4,
     "metadata": {},
     "output_type": "execute_result"
    }
   ],
   "source": [
    "# Outlier detection examples\n",
    "\n",
    "# Example1: assume data follow a normal distribution\n",
    "# Cut off data points in low probability regions\n",
    "\n",
    "import statistics\n",
    "\n",
    "data = [23.0, 28.8, 28.9, 28.9, 28.9, 29.0, 29.1, 29.1, 29.2, 29.2, 29.3, 29.4, 29.5, \n",
    "        29.5, 29.6, 29.7, 29.7, 29.8, 29.8, 29.9, 29.9, 35.0]\n",
    "\n",
    "\n",
    "def find_outliers_normal_dist(data):\n",
    "    outliers = []\n",
    "    # Set upper and lower limit to 3 standard deviation\n",
    "    data_std = statistics.stdev(data)\n",
    "    data_mean = statistics.mean(data)\n",
    "    cut_off = data_std * 3\n",
    "    lower_limit  = data_mean - cut_off \n",
    "    upper_limit = data_mean + cut_off\n",
    "    print(f'Lower limit: {lower_limit}')\n",
    "    print(f'Upper limit: {upper_limit}')\n",
    "    for d in data:\n",
    "        if d > upper_limit or d < lower_limit:\n",
    "            outliers.append(d)\n",
    "    return outliers\n",
    "\n",
    "outliers = find_outliers_normal_dist(data)\n",
    "outliers"
   ]
  },
  {
   "cell_type": "code",
   "execution_count": 5,
   "metadata": {},
   "outputs": [
    {
     "data": {
      "text/plain": [
       "<AxesSubplot:>"
      ]
     },
     "execution_count": 5,
     "metadata": {},
     "output_type": "execute_result"
    },
    {
     "data": {
      "image/png": "[encoded data removed]",
      "text/plain": [
       "<Figure size 432x288 with 1 Axes>"
      ]
     },
     "metadata": {
      "needs_background": "light"
     },
     "output_type": "display_data"
    }
   ],
   "source": [
    "# Example2: Use boxplots to locate outliers\n",
    "# Similar idea as with the normal distribution. \n",
    "# Boxplots calculate the IQR\n",
    "# Outliers: below (Q1 − 1.5x IQR) or above (Q3 + 1.5x IQR)\n",
    "\n",
    "import seaborn as sns\n",
    "import matplotlib.pyplot as plt\n",
    "\n",
    "sns.boxplot(data=data)\n"
   ]
  },
  {
   "cell_type": "code",
   "execution_count": 6,
   "metadata": {},
   "outputs": [
    {
     "name": "stdout",
     "output_type": "stream",
     "text": [
      "Lower limit: 23.665232344274628\n",
      "Upper limit: 34.98931311027083\n"
     ]
    },
    {
     "data": {
      "text/plain": [
       "[23.0, 35.0]"
      ]
     },
     "execution_count": 6,
     "metadata": {},
     "output_type": "execute_result"
    }
   ],
   "source": [
    "from numpy import percentile\n",
    "\n",
    "def find_outliers_iqr(data):\n",
    "    outliers = []\n",
    "    # calculate interquartile range\n",
    "    q25, q75 = percentile(data, 25), percentile(data, 75)\n",
    "    iqr = q75 - q25\n",
    "    print(f'Percentiles: 25th={q25}, 75th={q75}, IQR={iqr}')\n",
    "    # calculate the outlier cutoff\n",
    "    cut_off = iqr * 1.5\n",
    "    lower = q25 - cut_off\n",
    "    upper = q75 + cut_off\n",
    "    # identify outliers\n",
    "    outliers = [x for x in data if x < lower or x > upper]\n",
    "    return outliers\n",
    "\n",
    "outliers = find_outliers_normal_dist(data)\n",
    "outliers\n"
   ]
  },
  {
   "cell_type": "code",
   "execution_count": null,
   "metadata": {},
   "outputs": [],
   "source": [
    "import numpy as np\n",
    "from sklearn.cluster import DBSCAN\n",
    "\n",
    "X = [\n",
    "    [23.0,0],\n",
    "    [28.8,0],\n",
    "    [28.9,0],\n",
    "    [28.9,0],\n",
    "    [28.9,0],\n",
    "    [29.0,0],\n",
    "    [29.1,0],\n",
    "    [29.1,0],\n",
    "    [29.2,0],\n",
    "    [29.2,0],\n",
    "    [29.3,0],\n",
    "    [29.4,0],\n",
    "    [29.5,0],\n",
    "    [29.5,0],\n",
    "    [29.6,0],\n",
    "    [29.7,0],\n",
    "    [29.7,0],\n",
    "    [29.8,0],\n",
    "    [29.8,0],\n",
    "    [29.9,0],\n",
    "    [29.9,0],\n",
    "    [35.0,0]\n",
    "]\n",
    "\n",
    "outlier_detection = DBSCAN(eps=0.2,min_samples=5,metric='euclidean')\n",
    "clusters = outlier_detection.fit_predict(X)\n",
    "list(clusters)\n"
   ]
  },
  {
   "cell_type": "code",
   "execution_count": null,
   "metadata": {},
   "outputs": [],
   "source": [
    "import matplotlib.pyplot as plt\n",
    "\n",
    "cl1=[point[0] for i,point in enumerate(X) if clusters[i]==0]\n",
    "cl2=[point[0] for i,point in enumerate(X) if clusters[i]==-1]\n",
    "y1=[0 for i in cl1]\n",
    "y2=[0 for i in cl2]\n",
    "#plt.scatter(cl1,y1,c='lightblue',marker='o',s=40,label='cluster 1')\n",
    "#plt.scatter(cl2,y2,c='red',marker='s',s=40,label='outliers')\n",
    "plt.title('DBSCAN clustering')\n",
    "plt.legend()\n",
    "plt.show()"
   ]
  },
  {
   "cell_type": "code",
   "execution_count": null,
   "metadata": {},
   "outputs": [],
   "source": []
  }
 ],
 "metadata": {
  "kernelspec": {
   "display_name": "venv",
   "language": "python",
   "name": "venv"
  },
  "language_info": {
   "codemirror_mode": {
    "name": "ipython",
    "version": 3
   },
   "file_extension": ".py",
   "mimetype": "text/x-python",
   "name": "python",
   "nbconvert_exporter": "python",
   "pygments_lexer": "ipython3",
   "version": "3.7.3"
  }
 },
 "nbformat": 4,
 "nbformat_minor": 4
}
