{
 "cells": [
  {
   "cell_type": "code",
   "execution_count": null,
   "metadata": {},
   "outputs": [],
   "source": [
    "# A python dictionary is a list that is indexed by key values.\n",
    "# They are non-ordered and contain \"keys\" and \"values.\" Each key is unique and the values can be just about anything.\n",
    "# Dictionaries are defined with {} curly braces.\n",
    "\n",
    "my_dict = {}\n",
    "my_dict['name'] = 'Joe'\n",
    "print(my_dict)\n"
   ]
  },
  {
   "cell_type": "code",
   "execution_count": null,
   "metadata": {},
   "outputs": [],
   "source": [
    "my_dict['phone'] = '123456789'\n",
    "print(my_dict)"
   ]
  },
  {
   "cell_type": "code",
   "execution_count": null,
   "metadata": {},
   "outputs": [],
   "source": [
    "# Define a sample dict with various object as values\n",
    "\n",
    "sample_dict = {\n",
    "    'text key': 'string',\n",
    "    'integer key': 123,\n",
    "    'boolean key': True,\n",
    "    'simple list': [\n",
    "        'value 1',\n",
    "        'value 2'\n",
    "    ],\n",
    "    'dict': {\n",
    "        'element 1': 'value 1',\n",
    "        'element 2': 'value 2'\n",
    "    },\n",
    "    'dict list': [\n",
    "        {\n",
    "            'key 1.1': 'value 1.1',\n",
    "            'key 1.2': 'value 1.2'\n",
    "        },\n",
    "        {\n",
    "            'key 2.1': 'value 2.1',\n",
    "            'key 2.2': 'value 2.2'\n",
    "        }\n",
    "    ]\n",
    "}\n",
    "\n",
    "print(sample_dict)"
   ]
  },
  {
   "cell_type": "code",
   "execution_count": null,
   "metadata": {},
   "outputs": [],
   "source": [
    "# Get items from dictionary\n",
    "\n",
    "my_list = sample_dict['dict list']\n",
    "print(my_list)"
   ]
  },
  {
   "cell_type": "code",
   "execution_count": null,
   "metadata": {},
   "outputs": [],
   "source": [
    "print(my_list[0])"
   ]
  },
  {
   "cell_type": "code",
   "execution_count": null,
   "metadata": {},
   "outputs": [],
   "source": [
    "print(my_list[0]['key 1.2'])"
   ]
  },
  {
   "cell_type": "code",
   "execution_count": null,
   "metadata": {},
   "outputs": [],
   "source": [
    "# What if key is not present?\n",
    "\n",
    "err = sample_dict['test_key']"
   ]
  },
  {
   "cell_type": "code",
   "execution_count": null,
   "metadata": {},
   "outputs": [],
   "source": [
    "try:\n",
    "    value = sample_dict['test_key']\n",
    "except KeyError:\n",
    "    print('No such key')"
   ]
  },
  {
   "cell_type": "code",
   "execution_count": null,
   "metadata": {},
   "outputs": [],
   "source": [
    "# Safer to use get()\n",
    "\n",
    "value = sample_dict.get('test_key')\n",
    "print(value)"
   ]
  },
  {
   "cell_type": "code",
   "execution_count": null,
   "metadata": {},
   "outputs": [],
   "source": [
    "# We can use setdefault() if we also want to put a default value if not exists\n",
    "value = sample_dict.setdefault('test_key', 'test_value')\n",
    "value"
   ]
  },
  {
   "cell_type": "code",
   "execution_count": null,
   "metadata": {},
   "outputs": [],
   "source": [
    "# Can dump to JSON (create JSON formatted string)\n",
    "# We can later store that JSON string to file\n",
    "import json\n",
    "\n",
    "print(json.dumps(sample_dict))"
   ]
  },
  {
   "cell_type": "code",
   "execution_count": null,
   "metadata": {},
   "outputs": [],
   "source": [
    "print(json.dumps(sample_dict, indent=4))"
   ]
  },
  {
   "cell_type": "code",
   "execution_count": null,
   "metadata": {},
   "outputs": [],
   "source": [
    "print(json.dumps(sample_dict, indent=4, sort_keys=True))"
   ]
  },
  {
   "cell_type": "code",
   "execution_count": null,
   "metadata": {},
   "outputs": [],
   "source": [
    "with open('./data/sample_dict.json', 'w') as fp:\n",
    "    fp.write(json.dumps(sample_dict, indent=4, sort_keys=True))"
   ]
  },
  {
   "cell_type": "code",
   "execution_count": null,
   "metadata": {},
   "outputs": [],
   "source": []
  }
 ],
 "metadata": {
  "kernelspec": {
   "display_name": "venv",
   "language": "python",
   "name": "venv"
  },
  "language_info": {
   "codemirror_mode": {
    "name": "ipython",
    "version": 3
   },
   "file_extension": ".py",
   "mimetype": "text/x-python",
   "name": "python",
   "nbconvert_exporter": "python",
   "pygments_lexer": "ipython3",
   "version": "3.7.3"
  }
 },
 "nbformat": 4,
 "nbformat_minor": 4
}
